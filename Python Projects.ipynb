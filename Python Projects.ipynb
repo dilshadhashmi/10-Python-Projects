{
 "cells": [
  {
   "cell_type": "markdown",
   "id": "5c5a3ad4",
   "metadata": {},
   "source": [
    "# Find the LCM  of two number using Python"
   ]
  },
  {
   "cell_type": "code",
   "execution_count": 1,
   "id": "c65dbb24",
   "metadata": {},
   "outputs": [],
   "source": [
    "def least_common_multiple(a,b):\n",
    "    if a >b :\n",
    "        greater =a\n",
    "    elif b>a :\n",
    "        greater =b\n",
    "        \n",
    "    while(True):\n",
    "        if ((greater %a == 0)and (greater %b == 0)):\n",
    "            lcm =greater\n",
    "            break\n",
    "        greater= greater+1\n",
    "    return lcm \n"
   ]
  },
  {
   "cell_type": "code",
   "execution_count": 2,
   "id": "98846b56",
   "metadata": {},
   "outputs": [
    {
     "data": {
      "text/plain": [
       "60"
      ]
     },
     "execution_count": 2,
     "metadata": {},
     "output_type": "execute_result"
    }
   ],
   "source": [
    "least_common_multiple(10,12)"
   ]
  },
  {
   "cell_type": "code",
   "execution_count": 3,
   "id": "cc1d3512",
   "metadata": {},
   "outputs": [
    {
     "data": {
      "text/plain": [
       "1190"
      ]
     },
     "execution_count": 3,
     "metadata": {},
     "output_type": "execute_result"
    }
   ],
   "source": [
    "least_common_multiple(34,35)"
   ]
  },
  {
   "cell_type": "markdown",
   "id": "d7653b96",
   "metadata": {},
   "source": [
    "# Get phone number details using Python"
   ]
  },
  {
   "cell_type": "code",
   "execution_count": 4,
   "id": "9a56640f",
   "metadata": {},
   "outputs": [
    {
     "name": "stdout",
     "output_type": "stream",
     "text": [
      "Collecting phonenumbers\n",
      "  Downloading phonenumbers-8.12.37-py2.py3-none-any.whl (2.6 MB)\n",
      "Installing collected packages: phonenumbers\n",
      "Successfully installed phonenumbers-8.12.37\n",
      "Note: you may need to restart the kernel to use updated packages.\n"
     ]
    }
   ],
   "source": [
    "pip install phonenumbers"
   ]
  },
  {
   "cell_type": "code",
   "execution_count": 12,
   "id": "ae9ee8d0",
   "metadata": {},
   "outputs": [
    {
     "name": "stdout",
     "output_type": "stream",
     "text": [
      "('Asia/Calcutta',)\n",
      "BSNL MOBILE\n",
      "India\n"
     ]
    }
   ],
   "source": [
    "import phonenumbers as ph\n",
    "from phonenumbers import carrier\n",
    "from phonenumbers import geocoder\n",
    "from phonenumbers import timezone\n",
    "\n",
    "number= \"+919450516509\"\n",
    "number= ph.parse(number)\n",
    "print(timezone.time_zones_for_number(number))\n",
    "print(carrier.name_for_number(number,\"en\"))\n",
    "print(geocoder.description_for_number(number,\"en\"))"
   ]
  },
  {
   "cell_type": "markdown",
   "id": "db38cd01",
   "metadata": {},
   "source": [
    "# Web Scraping to Create a Dataset using Python\n"
   ]
  },
  {
   "cell_type": "code",
   "execution_count": null,
   "id": "bf9134c5",
   "metadata": {},
   "outputs": [],
   "source": []
  }
 ],
 "metadata": {
  "kernelspec": {
   "display_name": "Python 3",
   "language": "python",
   "name": "python3"
  },
  "language_info": {
   "codemirror_mode": {
    "name": "ipython",
    "version": 3
   },
   "file_extension": ".py",
   "mimetype": "text/x-python",
   "name": "python",
   "nbconvert_exporter": "python",
   "pygments_lexer": "ipython3",
   "version": "3.8.8"
  }
 },
 "nbformat": 4,
 "nbformat_minor": 5
}
